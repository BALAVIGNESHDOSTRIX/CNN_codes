{
  "nbformat": 4,
  "nbformat_minor": 2,
  "metadata": {
    "colab": {
      "name": "cnn_image_augmentation.ipynb",
      "provenance": [],
      "collapsed_sections": []
    },
    "kernelspec": {
      "name": "python3",
      "display_name": "Python 3"
    },
    "language_info": {
      "name": "python"
    }
  },
  "cells": [
    {
      "cell_type": "code",
      "execution_count": null,
      "source": [
        "from keras.preprocessing.image import ImageDataGenerator,array_to_img,img_to_array,load_img\n",
        "\n",
        "\n",
        "img_data_gen = ImageDataGenerator(rotation_range=40, \n",
        "                                  width_shift_range=0.2,\n",
        "                                  height_shift_range=0.2,\n",
        "                                  shear_range=0.2,\n",
        "                                  zoom_range=0.2,\n",
        "                                  horizontal_flip=True,\n",
        "                                  fill_mode='nearest',\n",
        "                                  vertical_flip=True)\n",
        "\n",
        "input_image = load_img('/CNN-IN/Sample/lion.jpg')"
      ],
      "outputs": [],
      "metadata": {
        "id": "4uNkw6IhUtg_"
      }
    },
    {
      "cell_type": "code",
      "execution_count": null,
      "source": [
        "x = img_to_array(input_image)\n",
        "x.shape\n",
        "x = x.reshape((1,) + x.shape)\n",
        "\n",
        "x.shape"
      ],
      "outputs": [
        {
          "output_type": "execute_result",
          "data": {
            "text/plain": [
              "(1, 423, 640, 3)"
            ]
          },
          "metadata": {
            "tags": []
          },
          "execution_count": 10
        }
      ],
      "metadata": {
        "colab": {
          "base_uri": "https://localhost:8080/"
        },
        "id": "2_ZM48MDVEpU",
        "outputId": "49e53aee-0d09-42e7-cc6a-dc4fa06608c8"
      }
    },
    {
      "cell_type": "code",
      "execution_count": null,
      "source": [
        "i = 0\n",
        "for batch in img_data_gen.flow(x, batch_size=1, shuffle=True, \n",
        "                               save_prefix='lion', \n",
        "                               save_to_dir='/CNN-OP/Image_Aug_01',\n",
        "                               save_format='png'):\n",
        "    if i == 20:\n",
        "      break\n",
        "    i += 1"
      ],
      "outputs": [],
      "metadata": {
        "id": "BwZZdQo_WirL"
      }
    }
  ]
}