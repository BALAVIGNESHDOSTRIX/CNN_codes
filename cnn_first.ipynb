{
  "nbformat": 4,
  "nbformat_minor": 0,
  "metadata": {
    "colab": {
      "name": "cnn_first.ipynb",
      "provenance": []
    },
    "kernelspec": {
      "name": "python3",
      "display_name": "Python 3"
    },
    "language_info": {
      "name": "python"
    }
  },
  "cells": [
    {
      "cell_type": "code",
      "metadata": {
        "id": "9xlkPwG9Kepu"
      },
      "source": [
        "from keras.datasets import mnist\n",
        "\n",
        "(X_train,Y_train),(x_test,y_test) = mnist.load_data()"
      ],
      "execution_count": null,
      "outputs": []
    },
    {
      "cell_type": "code",
      "metadata": {
        "colab": {
          "base_uri": "https://localhost:8080/",
          "height": 282
        },
        "id": "TFragCKDK_e4",
        "outputId": "23beda83-965d-4707-f83e-3bd9e4e2b6a7"
      },
      "source": [
        "import matplotlib.pyplot as plt\n",
        "\n",
        "plt.imshow(X_train[4])"
      ],
      "execution_count": null,
      "outputs": [
        {
          "output_type": "execute_result",
          "data": {
            "text/plain": [
              "<matplotlib.image.AxesImage at 0x7f90cd82d5d0>"
            ]
          },
          "metadata": {},
          "execution_count": 68
        },
        {
          "output_type": "display_data",
          "data": {
            "image/png": "[encoded data removed]",
            "text/plain": [
              "<Figure size 432x288 with 1 Axes>"
            ]
          },
          "metadata": {
            "needs_background": "light"
          }
        }
      ]
    },
    {
      "cell_type": "code",
      "metadata": {
        "colab": {
          "base_uri": "https://localhost:8080/"
        },
        "id": "Qqacrh6XLRQY",
        "outputId": "10519075-c4ae-4979-fc32-28c0acba832c"
      },
      "source": [
        "X_train[4].shape"
      ],
      "execution_count": null,
      "outputs": [
        {
          "output_type": "execute_result",
          "data": {
            "text/plain": [
              "(28, 28)"
            ]
          },
          "metadata": {},
          "execution_count": 69
        }
      ]
    },
    {
      "cell_type": "code",
      "metadata": {
        "id": "AAQo-3agLaTY"
      },
      "source": [
        "\"\"\"\n",
        "we need to reshape our dataset inputs (X_train and X_test) to the shape that our model expects when we train the model. \n",
        "The first number is the number of images (60,000 for X_train and 10,000 for X_test).\n",
        "Then comes the shape of each image (28x28). The last number is 1, which signifies that the images are greyscale.\n",
        "\"\"\"\n",
        "\n",
        "#reshape data to fit model\n",
        "X_train = X_train.reshape(X_train.shape[0], 28, 28, 1)\n",
        "x_test = x_test.reshape(x_test.shape[0],28,28,1)"
      ],
      "execution_count": null,
      "outputs": []
    },
    {
      "cell_type": "code",
      "metadata": {
        "colab": {
          "base_uri": "https://localhost:8080/"
        },
        "id": "C3cr0G9zMHK3",
        "outputId": "7dcfb4d7-02a7-4521-c6fb-a88213be33f0"
      },
      "source": [
        "x_test.shape"
      ],
      "execution_count": null,
      "outputs": [
        {
          "output_type": "execute_result",
          "data": {
            "text/plain": [
              "(10000, 28, 28, 1)"
            ]
          },
          "metadata": {},
          "execution_count": 71
        }
      ]
    },
    {
      "cell_type": "code",
      "metadata": {
        "id": "fbGlq_y3NluR"
      },
      "source": [
        "\"\"\"\n",
        "We need to ‘one-hot-encode’ our target variable. This means that a column will be created for each output category and a binary variable is inputted for each category. \n",
        "For example, we saw that the first image in the dataset is a 5. \n",
        "This means that the sixth number in our array will have a 1 and the rest of the array will be filled with 0\n",
        "\"\"\"\n",
        "\n",
        "from tensorflow.keras.utils import to_categorical\n",
        "import numpy as np\n",
        "from sklearn import preprocessing\n",
        "\n",
        "# Define the One-hot Encoder\n",
        "ohe = preprocessing.OneHotEncoder()\n",
        "\n",
        "# Reshape data\n",
        "Y_train = Y_train.reshape(-1, 1)\n",
        "y_test = y_test.reshape(-1, 1)\n",
        "\n",
        "# Fit and transform training data\n",
        "Y_train = ohe.fit_transform(Y_train).toarray()\n",
        "\n",
        "# Fit and transform testing data\n",
        "y_test = ohe.fit_transform(y_test).toarray()"
      ],
      "execution_count": null,
      "outputs": []
    },
    {
      "cell_type": "code",
      "metadata": {
        "colab": {
          "base_uri": "https://localhost:8080/"
        },
        "id": "MifprkL_OOiD",
        "outputId": "00f01698-9919-457d-ad1f-46514ace98e3"
      },
      "source": [
        "Y_train[0]"
      ],
      "execution_count": null,
      "outputs": [
        {
          "output_type": "execute_result",
          "data": {
            "text/plain": [
              "array([0., 0., 0., 0., 0., 1., 0., 0., 0., 0.])"
            ]
          },
          "metadata": {},
          "execution_count": 73
        }
      ]
    },
    {
      "cell_type": "code",
      "metadata": {
        "id": "hmS0eSQTPIei"
      },
      "source": [
        "# Now build the Convalutional Layer\n",
        "from keras.models import Sequential\n",
        "from keras.layers import Dense, Flatten, Conv2D, MaxPool2D\n",
        "\n",
        "model = Sequential()\n",
        "# First Convalutional Layer\n",
        "model.add(Conv2D(64, kernel_size=3, activation='relu', input_shape=(28,28,1)))\n",
        "model.add(MaxPool2D(2,2))\n",
        "\n",
        "# Second Convalutional Layer\n",
        "model.add(Conv2D(32, kernel_size=3, activation='relu'))\n",
        "model.add(MaxPool2D(2,2))\n",
        "\n",
        "# Third Convalutional Layer\n",
        "model.add(Conv2D(16, kernel_size=3, activation='relu'))\n",
        "model.add(MaxPool2D(2,2))\n",
        "\n",
        "# Flatten the results to feed into a DNN\n",
        "model.add(Flatten())\n",
        "\n",
        "model.add(Dense(10, activation='sigmoid'))"
      ],
      "execution_count": null,
      "outputs": []
    },
    {
      "cell_type": "code",
      "metadata": {
        "id": "4RjSnolm5PXJ"
      },
      "source": [
        "#compile model using accuracy to measure model performance\n",
        "model.compile(optimizer='adam', loss='categorical_crossentropy', metrics=['accuracy'])"
      ],
      "execution_count": null,
      "outputs": []
    },
    {
      "cell_type": "code",
      "metadata": {
        "colab": {
          "base_uri": "https://localhost:8080/"
        },
        "id": "iMaM3OOi8Ca2",
        "outputId": "db49eb20-1d4c-429a-b45d-6c3f08ab92cc"
      },
      "source": [
        "#Training the model\n",
        "\n",
        "model.fit(X_train, Y_train, validation_data=(x_test,y_test), epochs=4)"
      ],
      "execution_count": null,
      "outputs": [
        {
          "output_type": "stream",
          "text": [
            "Epoch 1/4\n",
            "1875/1875 [==============================] - 75s 40ms/step - loss: 0.6449 - accuracy: 0.8076 - val_loss: 0.1632 - val_accuracy: 0.9530\n",
            "Epoch 2/4\n",
            "1875/1875 [==============================] - 73s 39ms/step - loss: 0.1380 - accuracy: 0.9593 - val_loss: 0.1224 - val_accuracy: 0.9622\n",
            "Epoch 3/4\n",
            "1875/1875 [==============================] - 73s 39ms/step - loss: 0.1025 - accuracy: 0.9684 - val_loss: 0.0869 - val_accuracy: 0.9751\n",
            "Epoch 4/4\n",
            "1875/1875 [==============================] - 73s 39ms/step - loss: 0.0844 - accuracy: 0.9741 - val_loss: 0.0846 - val_accuracy: 0.9761\n"
          ],
          "name": "stdout"
        },
        {
          "output_type": "execute_result",
          "data": {
            "text/plain": [
              "<keras.callbacks.History at 0x7f90cb9ea250>"
            ]
          },
          "metadata": {},
          "execution_count": 76
        }
      ]
    },
    {
      "cell_type": "code",
      "metadata": {
        "colab": {
          "base_uri": "https://localhost:8080/"
        },
        "id": "LJKi3_gw8aB8",
        "outputId": "128206a5-1b33-4e0b-8778-5f9280f51d25"
      },
      "source": [
        "prediction = model.predict(x_test)\n",
        "prediction"
      ],
      "execution_count": null,
      "outputs": [
        {
          "output_type": "execute_result",
          "data": {
            "text/plain": [
              "array([[0.2270841 , 0.9430349 , 0.99547875, ..., 0.9999373 , 0.88495636,\n",
              "        0.90226436],\n",
              "       [0.99976814, 0.9999372 , 1.        , ..., 0.9999044 , 0.98114204,\n",
              "        0.98875856],\n",
              "       [0.7591865 , 0.9999901 , 0.97215   , ..., 0.85347056, 0.99287903,\n",
              "        0.8269868 ],\n",
              "       ...,\n",
              "       [0.9983168 , 0.06418425, 0.9063746 , ..., 0.58615303, 0.99988866,\n",
              "        0.9999186 ],\n",
              "       [0.9949217 , 0.00520152, 0.76821136, ..., 0.04077956, 0.99861807,\n",
              "        0.94320095],\n",
              "       [0.9999958 , 0.98944247, 0.9999945 , ..., 0.6824658 , 0.9999997 ,\n",
              "        0.99990994]], dtype=float32)"
            ]
          },
          "metadata": {},
          "execution_count": 77
        }
      ]
    },
    {
      "cell_type": "code",
      "metadata": {
        "colab": {
          "base_uri": "https://localhost:8080/"
        },
        "id": "aq_u70gmEg5L",
        "outputId": "1e5b6a71-7a7f-4adf-a55c-ef1e55d9cdfe"
      },
      "source": [
        "prediction[:1]"
      ],
      "execution_count": null,
      "outputs": [
        {
          "output_type": "execute_result",
          "data": {
            "text/plain": [
              "array([[2.2708410e-01, 9.4303489e-01, 9.9547875e-01, 9.9413979e-01,\n",
              "        7.9131746e-01, 6.5714002e-02, 4.5242906e-04, 9.9993730e-01,\n",
              "        8.8495636e-01, 9.0226436e-01]], dtype=float32)"
            ]
          },
          "metadata": {},
          "execution_count": 86
        }
      ]
    },
    {
      "cell_type": "code",
      "metadata": {
        "colab": {
          "base_uri": "https://localhost:8080/"
        },
        "id": "3vixeX2pFFUr",
        "outputId": "7221ae87-a62d-4633-c41b-a1561090e899"
      },
      "source": [
        "np.where(prediction[:1]==prediction[:1].max())"
      ],
      "execution_count": null,
      "outputs": [
        {
          "output_type": "execute_result",
          "data": {
            "text/plain": [
              "(array([0]), array([7]))"
            ]
          },
          "metadata": {},
          "execution_count": 83
        }
      ]
    },
    {
      "cell_type": "code",
      "metadata": {
        "id": "HSHtp8Rp-Ad6"
      },
      "source": [
        "test = x_test[0].reshape(28,28)"
      ],
      "execution_count": null,
      "outputs": []
    },
    {
      "cell_type": "code",
      "metadata": {
        "colab": {
          "base_uri": "https://localhost:8080/",
          "height": 282
        },
        "id": "CaHT4w-KDiwM",
        "outputId": "6c020dcf-9551-4f68-dadc-8e9a533622ed"
      },
      "source": [
        "plt.imshow(test)"
      ],
      "execution_count": null,
      "outputs": [
        {
          "output_type": "execute_result",
          "data": {
            "text/plain": [
              "<matplotlib.image.AxesImage at 0x7f90cd5a8110>"
            ]
          },
          "metadata": {},
          "execution_count": 85
        },
        {
          "output_type": "display_data",
          "data": {
            "image/png": "[encoded data removed]",
            "text/plain": [
              "<Figure size 432x288 with 1 Axes>"
            ]
          },
          "metadata": {
            "needs_background": "light"
          }
        }
      ]
    }
  ]
}